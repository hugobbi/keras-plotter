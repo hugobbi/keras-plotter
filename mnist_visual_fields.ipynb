{
  "cells": [
    {
      "cell_type": "markdown",
      "metadata": {
        "id": "view-in-github",
        "colab_type": "text"
      },
      "source": [
        "<a href=\"https://colab.research.google.com/github/hugobbi/mnist-visual-fields/blob/main/mnist_visual_fields.ipynb\" target=\"_parent\"><img src=\"https://colab.research.google.com/assets/colab-badge.svg\" alt=\"Open In Colab\"/></a>"
      ]
    },
    {
      "cell_type": "code",
      "execution_count": null,
      "metadata": {
        "id": "5zAMqF2QaMEA"
      },
      "outputs": [],
      "source": [
        "from sklearn.datasets import fetch_openml\n",
        "import matplotlib as mpl\n",
        "import matplotlib.pyplot as plt\n",
        "import pandas as pd\n",
        "import numpy as np"
      ]
    },
    {
      "cell_type": "markdown",
      "metadata": {
        "id": "1b2aCTNka-vF"
      },
      "source": [
        "Load MNIST dataset - Using SKLEARN"
      ]
    },
    {
      "cell_type": "code",
      "execution_count": null,
      "metadata": {
        "id": "euu_Xab_bsLG"
      },
      "outputs": [],
      "source": [
        "#\n",
        "# It is possible to load mnist using sklearn\n",
        "# mnist = fetch_openml('mnist_784',version=1)\n",
        "# mnist.keys()\n",
        "# X,y = mnist[\"data\"], mnist[\"target\"]\n",
        "# The API of fetch_openml changed between versions. In earlier versions, it returns a numpy.ndarray array.\n",
        "# Since 0.24.0 (December 2020), as_frame argument of fetch_openml is set to auto (instead of False as default\n",
        "# option earlier) which gives you a pandas.DataFrame for the MNIST data.\n",
        "# You can force the data read as a numpy.ndarray by setting as_frame = False. See fetch_openml reference .\n",
        "# My solution was simply to turn the dataframe in an array\n",
        "# Xnp = X.to_numpy()\n",
        "# I opt by using keras to upload the dataset"
      ]
    },
    {
      "cell_type": "markdown",
      "source": [
        "Load MNIST dataset - Using KERAS"
      ],
      "metadata": {
        "id": "maAXRw1bkvPW"
      }
    },
    {
      "cell_type": "code",
      "execution_count": null,
      "metadata": {
        "id": "LlDqYCJPh0O0"
      },
      "outputs": [],
      "source": [
        "import tensorflow as tf\n",
        "from tensorflow import keras"
      ]
    },
    {
      "cell_type": "code",
      "execution_count": null,
      "metadata": {
        "colab": {
          "base_uri": "https://localhost:8080/"
        },
        "id": "0A0jI-QvBRz7",
        "outputId": "5344c98e-e43d-4b43-b90a-c9742deaa9c2"
      },
      "outputs": [
        {
          "output_type": "stream",
          "name": "stdout",
          "text": [
            "Downloading data from https://storage.googleapis.com/tensorflow/tf-keras-datasets/mnist.npz\n",
            "11490434/11490434 [==============================] - 1s 0us/step\n"
          ]
        }
      ],
      "source": [
        "dataset_mnist = keras.datasets.mnist\n",
        "(X_train_full,y_train_full),(X_test,y_test) = dataset_mnist.load_data()\n",
        "X_train_full = X_train_full/255.0\n",
        "X_test = X_test/255.0\n"
      ]
    },
    {
      "cell_type": "code",
      "source": [
        "X_train_full[2].max()"
      ],
      "metadata": {
        "colab": {
          "base_uri": "https://localhost:8080/"
        },
        "id": "PgE6JeqBm2Ac",
        "outputId": "550bc1c5-7c7f-42da-d591-255fca2b8250"
      },
      "execution_count": null,
      "outputs": [
        {
          "output_type": "execute_result",
          "data": {
            "text/plain": [
              "1.0"
            ]
          },
          "metadata": {},
          "execution_count": 6
        }
      ]
    },
    {
      "cell_type": "code",
      "source": [
        "# NEW\n",
        "def Shuffle_Two_Visual_Fields_Dataset(Xdata_left, Xdata_right,ydata):\n",
        "  # Shuffle of the dataset\n",
        "  i = np.random.permutation(ydata.shape[0])\n",
        "  Xdata_left_new  = np.take(Xdata_left, i,axis=0)\n",
        "  Xdata_right_new = np.take(Xdata_right,i,axis=0)\n",
        "  ydata_new       = np.take(ydata,      i,axis=0)\n",
        "  return Xdata_left_new,Xdata_right_new,ydata"
      ],
      "metadata": {
        "id": "LZe6zI2EcXD3"
      },
      "execution_count": null,
      "outputs": []
    },
    {
      "cell_type": "code",
      "source": [
        "# NEW\n",
        "def Double_and_Shuffle_Dataset(Xdata,ydata):\n",
        "  # First shuffle of the dataset\n",
        "  i1 = np.random.permutation(Xdata.shape[0])\n",
        "  Xdata1 = np.take(Xdata,i1,axis=0)\n",
        "  ydata1 = np.take(ydata,i1,axis=0)\n",
        "  # Second shuffle of the dataset\n",
        "  i2 = np.random.permutation(Xdata.shape[0])\n",
        "  Xdata2 = np.take(Xdata,i2,axis=0)\n",
        "  ydata2 = np.take(ydata,i2,axis=0)\n",
        "  # Concatenating the two shuffles\n",
        "  Xdata_SD = np.concatenate((Xdata1,Xdata2),axis=0)\n",
        "  ydata_SD = np.concatenate((ydata1,ydata2),axis=0)\n",
        "  return Xdata_SD,ydata_SD"
      ],
      "metadata": {
        "id": "ZjlCB8CXgs7e"
      },
      "execution_count": null,
      "outputs": []
    },
    {
      "cell_type": "code",
      "source": [
        "# NEW\n",
        "def Build_Visual_Field_Set_With_Attention(XdataL,ydataL,XdataR,ydataR,full_att,reduc_att):\n",
        "  N = XdataL.shape[0]         # the size of the datasets\n",
        "  XdataL_new = XdataL.copy()  # deep copy to avoid in place changes\n",
        "  XdataR_new = XdataR.copy()  # deep copy to avoid in place changes\n",
        "  ydata_new  = np.zeros(N)    # the answer considering the attention\n",
        "  randn = np.random.binomial(1,0.5 , size=N)\n",
        "  for i in range(N):\n",
        "    if(randn[i] == 1):\n",
        "      # the attented visual field is the left\n",
        "      ydata_new[i] = ydataL[i]\n",
        "      # the right visual field has reduced attention\n",
        "      XdataR_new[i] = reduc_att*XdataR[i]\n",
        "      XdataL_new[i] =  full_att*XdataL[i]\n",
        "    else:\n",
        "      # the attented visual field is the right\n",
        "      ydata_new[i] = ydataR[i]\n",
        "      # the left visual field has reduced attention\n",
        "      XdataR_new[i] =  full_att*XdataR[i]\n",
        "      XdataL_new[i] = reduc_att*XdataL[i]\n",
        "  return XdataL_new,XdataR_new,ydata_new"
      ],
      "metadata": {
        "id": "HX56dGZJgItX"
      },
      "execution_count": null,
      "outputs": []
    },
    {
      "cell_type": "markdown",
      "source": [],
      "metadata": {
        "id": "SFf83hxqHCDN"
      }
    },
    {
      "cell_type": "code",
      "source": [
        "def See_Visual_Field_Set(Xdata_L,Xdata_R,ydata,Num):\n",
        "  fig1, ax = plt.subplots(Num, 2,figsize=(2.4, Num*1.2))\n",
        "  maxi = np.zeros(Num)\n",
        "  for i in range(Num):\n",
        "    maxi[i] = 1 #max(Xdata_L[i].max(),Xdata_R[i].max())\n",
        "    ax[i,0].imshow(Xdata_L[i],cmap=\"binary\",vmax=maxi[i])\n",
        "    ax[i,1].imshow(Xdata_R[i],cmap=\"binary\",vmax=maxi[i])\n",
        "    ax[i,1].text(45,18,'%d'%(ydata[i]),fontsize=20)\n",
        "    ax[i,0].set_xticks([])\n",
        "    ax[i,0].set_yticks([])\n",
        "    ax[i,1].set_xticks([])\n",
        "    ax[i,1].set_yticks([])\n",
        "  plt.show()"
      ],
      "metadata": {
        "id": "H4CxIiAYKUw6"
      },
      "execution_count": null,
      "outputs": []
    },
    {
      "cell_type": "code",
      "source": [
        "# Creating training sets for the Left and Right Visual Field\n",
        "# The competitive sitimulus (CS) dataset. Size equals to 2x the original size\n",
        "X_L, y_L = Double_and_Shuffle_Dataset(X_train_full,y_train_full)\n",
        "X_R, y_R = Double_and_Shuffle_Dataset(X_train_full,y_train_full)\n",
        "Xtrain_L_new,Xtrain_R_new,y_train_new = Build_Visual_Field_Set_With_Attention(X_L,y_L,X_R,y_R, full_att=1.0,reduc_att=0.5 )\n",
        "# The dataset with a single stimulus (SS) in only one of the visual fields. Size equals to 2x the original MNIST size\n",
        "X_L, y_L = Double_and_Shuffle_Dataset(X_train_full,y_train_full)\n",
        "X_R, y_R = Double_and_Shuffle_Dataset(X_train_full,y_train_full)\n",
        "Xtrain_L_snew,Xtrain_R_snew,y_train_snew = Build_Visual_Field_Set_With_Attention(X_L,y_L,X_R,y_R, full_att=0.5,reduc_att=0.0 )\n",
        "# Join both datasets with CS before SS. Size equals to 4x the original MNIST size\n",
        "Xtrain_Left  = np.concatenate((Xtrain_L_new,Xtrain_L_snew),axis=0)\n",
        "Xtrain_Right = np.concatenate((Xtrain_R_new,Xtrain_R_snew),axis=0)\n",
        "ytrain_final = np.concatenate((y_train_new,y_train_snew),axis=0)\n",
        "del Xtrain_L_new,Xtrain_R_new,y_train_new,Xtrain_L_snew,Xtrain_R_snew,y_train_snew,X_L,y_L,X_R,y_R\n",
        "# Suffle the datasets so the elements of CS and SS are randomly ordered.\n",
        "i = np.random.permutation(ytrain_final.shape[0])\n",
        "Xtrain_Left  = np.take(Xtrain_Left, i,axis=0)\n",
        "Xtrain_Right = np.take(Xtrain_Right,i,axis=0)\n",
        "ytrain_final = np.take(ytrain_final,i,axis=0)"
      ],
      "metadata": {
        "id": "ZuL18-MeJJP2"
      },
      "execution_count": null,
      "outputs": []
    },
    {
      "cell_type": "code",
      "source": [
        "See_Visual_Field_Set(Xtrain_Left,Xtrain_Right,ytrain_final,10)"
      ],
      "metadata": {
        "colab": {
          "base_uri": "https://localhost:8080/",
          "height": 961
        },
        "id": "BQjLsY029E91",
        "outputId": "84db508e-ad30-4383-b96f-eaf5ab6dea79"
      },
      "execution_count": null,
      "outputs": [
        {
          "output_type": "display_data",
          "data": {
            "text/plain": [
              "<Figure size 240x1200 with 20 Axes>"
            ],
            "image/png": "[encoded data removed]"
          },
          "metadata": {}
        }
      ]
    },
    {
      "cell_type": "code",
      "source": [
        "# Creating test sets for the Left and Right Visual Field\n",
        "# The competitive sitimulus (CS) dataset. Size equals to 2x the original size\n",
        "X_L, y_L = Double_and_Shuffle_Dataset(X_test,y_test)\n",
        "X_R, y_R = Double_and_Shuffle_Dataset(X_test,y_test)\n",
        "Xtest_L_new, Xtest_R_new, y_test_new  = Build_Visual_Field_Set_With_Attention(X_L,y_L,X_R,y_R, full_att=1.0,reduc_att=0.5 )\n",
        "# The dataset with a single stimulus (SS) in only one of the visual fields. Size equals to 2x the original MNIST size\n",
        "X_L, y_L = Double_and_Shuffle_Dataset(X_test,y_test)\n",
        "X_R, y_R = Double_and_Shuffle_Dataset(X_test,y_test)\n",
        "Xtest_L_snew,Xtest_R_snew,y_test_snew = Build_Visual_Field_Set_With_Attention(X_L,y_L,X_R,y_R, full_att=0.5,reduc_att=0.0 )\n",
        "# Join both datasets with CS before SS. Size equals to 4x the original MNIST size\n",
        "Xtest_Left  = np.concatenate((Xtest_L_new,Xtest_L_snew),axis=0)\n",
        "Xtest_Right = np.concatenate((Xtest_R_new,Xtest_R_snew),axis=0)\n",
        "ytest_final = np.concatenate((y_test_new,y_test_snew),axis=0)\n",
        "del Xtest_L_new,Xtest_R_new,y_test_new,Xtest_L_snew,Xtest_R_snew,y_test_snew,X_L,y_L,X_R,y_R\n",
        "# Suffle the datasets so the elements of CS and SS are randomly ordered.\n",
        "i = np.random.permutation(ytest_final.shape[0])\n",
        "Xtest_Left  = np.take(Xtest_Left, i,axis=0)\n",
        "Xtest_Right = np.take(Xtest_Right,i,axis=0)\n",
        "ytest_final = np.take(ytest_final,i,axis=0)"
      ],
      "metadata": {
        "id": "pcYQS8dpHaQC"
      },
      "execution_count": null,
      "outputs": []
    },
    {
      "cell_type": "code",
      "source": [
        "See_Visual_Field_Set(Xtest_Left,Xtest_Right,ytest_final,10)"
      ],
      "metadata": {
        "colab": {
          "base_uri": "https://localhost:8080/",
          "height": 961
        },
        "id": "8kVIENFhfJn0",
        "outputId": "4297559a-d734-4ea7-fdfc-38b1d7c1ad18"
      },
      "execution_count": null,
      "outputs": [
        {
          "output_type": "display_data",
          "data": {
            "text/plain": [
              "<Figure size 240x1200 with 20 Axes>"
            ],
            "image/png": "[encoded data removed]"
          },
          "metadata": {}
        }
      ]
    },
    {
      "cell_type": "markdown",
      "metadata": {
        "id": "x_osuwlGB1ju"
      },
      "source": [
        "## THE SIMPLE MNIST MODEL"
      ]
    },
    {
      "cell_type": "code",
      "execution_count": null,
      "metadata": {
        "id": "0GygAnKeifDr"
      },
      "outputs": [],
      "source": [
        "model = keras.models.Sequential()\n",
        "model.add(keras.layers.Flatten(input_shape=[28,28]))\n",
        "model.add(keras.layers.Dense(300,activation=\"relu\"))\n",
        "model.add(keras.layers.Dropout(rate=0.4))\n",
        "model.add(keras.layers.Dense(100,activation=\"relu\"))\n",
        "model.add(keras.layers.Dropout(rate=0.4))\n",
        "model.add(keras.layers.Dense(10,activation=\"softmax\"))"
      ]
    },
    {
      "cell_type": "code",
      "execution_count": null,
      "metadata": {
        "colab": {
          "base_uri": "https://localhost:8080/"
        },
        "id": "iP_vZsHXkhg_",
        "outputId": "e85b3781-07fa-4546-e764-44a3168c3f28"
      },
      "outputs": [
        {
          "output_type": "stream",
          "name": "stdout",
          "text": [
            "Model: \"sequential\"\n",
            "_________________________________________________________________\n",
            " Layer (type)                Output Shape              Param #   \n",
            "=================================================================\n",
            " flatten_4 (Flatten)         (None, 784)               0         \n",
            "                                                                 \n",
            " dense_9 (Dense)             (None, 300)               235500    \n",
            "                                                                 \n",
            " dropout_7 (Dropout)         (None, 300)               0         \n",
            "                                                                 \n",
            " dense_10 (Dense)            (None, 100)               30100     \n",
            "                                                                 \n",
            " dropout_8 (Dropout)         (None, 100)               0         \n",
            "                                                                 \n",
            " dense_11 (Dense)            (None, 10)                1010      \n",
            "                                                                 \n",
            "=================================================================\n",
            "Total params: 266,610\n",
            "Trainable params: 266,610\n",
            "Non-trainable params: 0\n",
            "_________________________________________________________________\n"
          ]
        }
      ],
      "source": [
        "model.summary()"
      ]
    },
    {
      "cell_type": "code",
      "execution_count": null,
      "metadata": {
        "id": "MGfa9ERpk8dC"
      },
      "outputs": [],
      "source": [
        "model.compile(loss=\"sparse_categorical_crossentropy\",optimizer=\"sgd\",metrics=[\"accuracy\"])"
      ]
    },
    {
      "cell_type": "code",
      "execution_count": null,
      "metadata": {
        "colab": {
          "base_uri": "https://localhost:8080/"
        },
        "id": "qspgnuxivLdB",
        "outputId": "bfd820c2-deb2-42d5-90c4-03f3645ee156"
      },
      "outputs": [
        {
          "output_type": "stream",
          "name": "stdout",
          "text": [
            "Epoch 1/50\n",
            "1875/1875 [==============================] - 9s 4ms/step - loss: 0.8668 - accuracy: 0.7280 - val_loss: 0.3246 - val_accuracy: 0.9098\n",
            "Epoch 2/50\n",
            "1875/1875 [==============================] - 9s 5ms/step - loss: 0.4321 - accuracy: 0.8705 - val_loss: 0.2465 - val_accuracy: 0.9288\n",
            "Epoch 3/50\n",
            "1875/1875 [==============================] - 9s 5ms/step - loss: 0.3457 - accuracy: 0.8993 - val_loss: 0.2071 - val_accuracy: 0.9393\n",
            "Epoch 4/50\n",
            "1875/1875 [==============================] - 8s 4ms/step - loss: 0.2977 - accuracy: 0.9148 - val_loss: 0.1822 - val_accuracy: 0.9443\n",
            "Epoch 5/50\n",
            "1875/1875 [==============================] - 10s 5ms/step - loss: 0.2666 - accuracy: 0.9217 - val_loss: 0.1633 - val_accuracy: 0.9510\n",
            "Epoch 6/50\n",
            "1875/1875 [==============================] - 9s 5ms/step - loss: 0.2395 - accuracy: 0.9303 - val_loss: 0.1479 - val_accuracy: 0.9562\n",
            "Epoch 7/50\n",
            "1875/1875 [==============================] - 8s 4ms/step - loss: 0.2178 - accuracy: 0.9367 - val_loss: 0.1375 - val_accuracy: 0.9586\n",
            "Epoch 8/50\n",
            "1875/1875 [==============================] - 9s 5ms/step - loss: 0.2068 - accuracy: 0.9389 - val_loss: 0.1262 - val_accuracy: 0.9619\n",
            "Epoch 9/50\n",
            "1875/1875 [==============================] - 8s 5ms/step - loss: 0.1923 - accuracy: 0.9450 - val_loss: 0.1192 - val_accuracy: 0.9636\n",
            "Epoch 10/50\n",
            "1875/1875 [==============================] - 8s 4ms/step - loss: 0.1801 - accuracy: 0.9475 - val_loss: 0.1154 - val_accuracy: 0.9644\n",
            "Epoch 11/50\n",
            "1875/1875 [==============================] - 9s 5ms/step - loss: 0.1724 - accuracy: 0.9504 - val_loss: 0.1092 - val_accuracy: 0.9671\n",
            "Epoch 12/50\n",
            "1875/1875 [==============================] - 9s 5ms/step - loss: 0.1642 - accuracy: 0.9530 - val_loss: 0.1034 - val_accuracy: 0.9672\n",
            "Epoch 13/50\n",
            "1875/1875 [==============================] - 8s 4ms/step - loss: 0.1546 - accuracy: 0.9554 - val_loss: 0.1000 - val_accuracy: 0.9697\n",
            "Epoch 14/50\n",
            "1875/1875 [==============================] - 9s 5ms/step - loss: 0.1500 - accuracy: 0.9561 - val_loss: 0.0979 - val_accuracy: 0.9695\n",
            "Epoch 15/50\n",
            "1875/1875 [==============================] - 8s 4ms/step - loss: 0.1448 - accuracy: 0.9583 - val_loss: 0.0939 - val_accuracy: 0.9702\n",
            "Epoch 16/50\n",
            "1875/1875 [==============================] - 9s 5ms/step - loss: 0.1404 - accuracy: 0.9587 - val_loss: 0.0905 - val_accuracy: 0.9720\n",
            "Epoch 17/50\n",
            "1875/1875 [==============================] - 9s 5ms/step - loss: 0.1322 - accuracy: 0.9618 - val_loss: 0.0884 - val_accuracy: 0.9734\n",
            "Epoch 18/50\n",
            "1875/1875 [==============================] - 9s 5ms/step - loss: 0.1300 - accuracy: 0.9631 - val_loss: 0.0892 - val_accuracy: 0.9726\n",
            "Epoch 19/50\n",
            "1875/1875 [==============================] - 8s 4ms/step - loss: 0.1236 - accuracy: 0.9645 - val_loss: 0.0844 - val_accuracy: 0.9749\n",
            "Epoch 20/50\n",
            "1875/1875 [==============================] - 9s 5ms/step - loss: 0.1194 - accuracy: 0.9648 - val_loss: 0.0836 - val_accuracy: 0.9741\n",
            "Epoch 21/50\n",
            "1875/1875 [==============================] - 9s 5ms/step - loss: 0.1158 - accuracy: 0.9665 - val_loss: 0.0810 - val_accuracy: 0.9751\n",
            "Epoch 22/50\n",
            "1875/1875 [==============================] - 8s 4ms/step - loss: 0.1134 - accuracy: 0.9663 - val_loss: 0.0805 - val_accuracy: 0.9763\n",
            "Epoch 23/50\n",
            "1875/1875 [==============================] - 9s 5ms/step - loss: 0.1101 - accuracy: 0.9676 - val_loss: 0.0778 - val_accuracy: 0.9767\n",
            "Epoch 24/50\n",
            "1875/1875 [==============================] - 9s 5ms/step - loss: 0.1077 - accuracy: 0.9682 - val_loss: 0.0759 - val_accuracy: 0.9770\n",
            "Epoch 25/50\n",
            "1875/1875 [==============================] - 8s 4ms/step - loss: 0.1041 - accuracy: 0.9688 - val_loss: 0.0759 - val_accuracy: 0.9763\n",
            "Epoch 26/50\n",
            "1875/1875 [==============================] - 9s 5ms/step - loss: 0.1016 - accuracy: 0.9704 - val_loss: 0.0738 - val_accuracy: 0.9769\n",
            "Epoch 27/50\n",
            "1875/1875 [==============================] - 9s 5ms/step - loss: 0.0993 - accuracy: 0.9700 - val_loss: 0.0735 - val_accuracy: 0.9783\n",
            "Epoch 28/50\n",
            "1875/1875 [==============================] - 8s 4ms/step - loss: 0.0982 - accuracy: 0.9717 - val_loss: 0.0720 - val_accuracy: 0.9779\n",
            "Epoch 29/50\n",
            "1875/1875 [==============================] - 9s 5ms/step - loss: 0.0943 - accuracy: 0.9727 - val_loss: 0.0724 - val_accuracy: 0.9783\n",
            "Epoch 30/50\n",
            "1875/1875 [==============================] - 9s 5ms/step - loss: 0.0912 - accuracy: 0.9720 - val_loss: 0.0705 - val_accuracy: 0.9779\n",
            "Epoch 31/50\n",
            "1875/1875 [==============================] - 8s 4ms/step - loss: 0.0914 - accuracy: 0.9726 - val_loss: 0.0689 - val_accuracy: 0.9792\n",
            "Epoch 32/50\n",
            "1875/1875 [==============================] - 9s 5ms/step - loss: 0.0878 - accuracy: 0.9744 - val_loss: 0.0679 - val_accuracy: 0.9800\n",
            "Epoch 33/50\n",
            "1875/1875 [==============================] - 9s 5ms/step - loss: 0.0855 - accuracy: 0.9749 - val_loss: 0.0670 - val_accuracy: 0.9804\n",
            "Epoch 34/50\n",
            "1875/1875 [==============================] - 9s 5ms/step - loss: 0.0850 - accuracy: 0.9747 - val_loss: 0.0657 - val_accuracy: 0.9800\n",
            "Epoch 35/50\n",
            "1875/1875 [==============================] - 9s 5ms/step - loss: 0.0841 - accuracy: 0.9745 - val_loss: 0.0667 - val_accuracy: 0.9794\n",
            "Epoch 36/50\n",
            "1875/1875 [==============================] - 8s 4ms/step - loss: 0.0819 - accuracy: 0.9760 - val_loss: 0.0652 - val_accuracy: 0.9803\n",
            "Epoch 37/50\n",
            "1875/1875 [==============================] - 8s 4ms/step - loss: 0.0790 - accuracy: 0.9762 - val_loss: 0.0653 - val_accuracy: 0.9809\n",
            "Epoch 38/50\n",
            "1875/1875 [==============================] - 9s 5ms/step - loss: 0.0768 - accuracy: 0.9769 - val_loss: 0.0647 - val_accuracy: 0.9809\n",
            "Epoch 39/50\n",
            "1875/1875 [==============================] - 7s 4ms/step - loss: 0.0774 - accuracy: 0.9771 - val_loss: 0.0643 - val_accuracy: 0.9814\n",
            "Epoch 40/50\n",
            "1875/1875 [==============================] - 9s 5ms/step - loss: 0.0753 - accuracy: 0.9772 - val_loss: 0.0660 - val_accuracy: 0.9803\n",
            "Epoch 41/50\n",
            "1875/1875 [==============================] - 9s 5ms/step - loss: 0.0731 - accuracy: 0.9779 - val_loss: 0.0641 - val_accuracy: 0.9812\n",
            "Epoch 42/50\n",
            "1875/1875 [==============================] - 8s 4ms/step - loss: 0.0730 - accuracy: 0.9777 - val_loss: 0.0631 - val_accuracy: 0.9807\n",
            "Epoch 43/50\n",
            "1875/1875 [==============================] - 9s 5ms/step - loss: 0.0712 - accuracy: 0.9786 - val_loss: 0.0627 - val_accuracy: 0.9806\n",
            "Epoch 44/50\n",
            "1875/1875 [==============================] - 9s 5ms/step - loss: 0.0692 - accuracy: 0.9789 - val_loss: 0.0627 - val_accuracy: 0.9817\n",
            "Epoch 45/50\n",
            "1875/1875 [==============================] - 8s 4ms/step - loss: 0.0691 - accuracy: 0.9793 - val_loss: 0.0627 - val_accuracy: 0.9818\n",
            "Epoch 46/50\n",
            "1875/1875 [==============================] - 9s 5ms/step - loss: 0.0676 - accuracy: 0.9792 - val_loss: 0.0622 - val_accuracy: 0.9818\n",
            "Epoch 47/50\n",
            "1875/1875 [==============================] - 9s 5ms/step - loss: 0.0668 - accuracy: 0.9793 - val_loss: 0.0602 - val_accuracy: 0.9820\n",
            "Epoch 48/50\n",
            "1875/1875 [==============================] - 8s 4ms/step - loss: 0.0639 - accuracy: 0.9806 - val_loss: 0.0603 - val_accuracy: 0.9825\n",
            "Epoch 49/50\n",
            "1875/1875 [==============================] - 9s 5ms/step - loss: 0.0637 - accuracy: 0.9803 - val_loss: 0.0608 - val_accuracy: 0.9822\n",
            "Epoch 50/50\n",
            "1875/1875 [==============================] - 9s 5ms/step - loss: 0.0620 - accuracy: 0.9808 - val_loss: 0.0617 - val_accuracy: 0.9815\n"
          ]
        }
      ],
      "source": [
        "history = model.fit(X_train_full, y_train_full, epochs=50, validation_data=(X_test,y_test))"
      ]
    },
    {
      "cell_type": "code",
      "source": [],
      "metadata": {
        "id": "kzVdlLFzzSek"
      },
      "execution_count": null,
      "outputs": []
    },
    {
      "cell_type": "markdown",
      "source": [
        "##  NETWORK WITH TWO VISUAL FIELDS:\n",
        "FUSION (CONCATENATION) AFTER THE SECOND LAYER"
      ],
      "metadata": {
        "id": "nGnshQk9YL0b"
      }
    },
    {
      "cell_type": "code",
      "source": [
        "input_L    = keras.layers.Input(shape=[28,28], name=\"left_input\")\n",
        "flatten_L  = keras.layers.Flatten()(input_L)\n",
        "hidden1_L  = keras.layers.Dense(300,activation=\"relu\")(flatten_L)\n",
        "drop1_L    = keras.layers.Dropout(rate=0.4)(hidden1_L)\n",
        "hidden2_L  = keras.layers.Dense(100,activation=\"relu\")(drop1_L)\n",
        "drop2_L    = keras.layers.Dropout(rate=0.4)(hidden2_L)\n",
        "\n",
        "input_R    = keras.layers.Input(shape=[28,28], name=\"right_input\")\n",
        "flatten_R  = keras.layers.Flatten()(input_R)\n",
        "hidden1_R  = keras.layers.Dense(300,activation=\"relu\")(flatten_R)\n",
        "drop1_R    = keras.layers.Dropout(rate=0.4)(hidden1_R)\n",
        "hidden2_R  = keras.layers.Dense(100,activation=\"relu\")(drop1_R)\n",
        "drop2_R    = keras.layers.Dropout(rate=0.4)(hidden2_R)\n",
        "\n",
        "concat_LR     = keras.layers.concatenate([drop2_L,drop2_R])\n",
        "output_LR     = keras.layers.Dense(10,activation=\"softmax\")(concat_LR)\n",
        "\n",
        "model_LR_FH2    = keras.Model(inputs=[input_L,input_R],outputs=[output_LR] )"
      ],
      "metadata": {
        "id": "xBX1MvlHrQXs"
      },
      "execution_count": null,
      "outputs": []
    },
    {
      "cell_type": "code",
      "source": [
        "model_LR_FH2.summary()"
      ],
      "metadata": {
        "colab": {
          "base_uri": "https://localhost:8080/"
        },
        "id": "x-N_thIMtTK4",
        "outputId": "51bec2a2-2ac1-48ea-f20c-801fd6fcae68"
      },
      "execution_count": null,
      "outputs": [
        {
          "output_type": "stream",
          "name": "stdout",
          "text": [
            "Model: \"model\"\n",
            "__________________________________________________________________________________________________\n",
            " Layer (type)                   Output Shape         Param #     Connected to                     \n",
            "==================================================================================================\n",
            " left_input (InputLayer)        [(None, 28, 28)]     0           []                               \n",
            "                                                                                                  \n",
            " right_input (InputLayer)       [(None, 28, 28)]     0           []                               \n",
            "                                                                                                  \n",
            " flatten (Flatten)              (None, 784)          0           ['left_input[0][0]']             \n",
            "                                                                                                  \n",
            " flatten_1 (Flatten)            (None, 784)          0           ['right_input[0][0]']            \n",
            "                                                                                                  \n",
            " dense (Dense)                  (None, 300)          235500      ['flatten[0][0]']                \n",
            "                                                                                                  \n",
            " dense_2 (Dense)                (None, 300)          235500      ['flatten_1[0][0]']              \n",
            "                                                                                                  \n",
            " dropout (Dropout)              (None, 300)          0           ['dense[0][0]']                  \n",
            "                                                                                                  \n",
            " dropout_2 (Dropout)            (None, 300)          0           ['dense_2[0][0]']                \n",
            "                                                                                                  \n",
            " dense_1 (Dense)                (None, 100)          30100       ['dropout[0][0]']                \n",
            "                                                                                                  \n",
            " dense_3 (Dense)                (None, 100)          30100       ['dropout_2[0][0]']              \n",
            "                                                                                                  \n",
            " dropout_1 (Dropout)            (None, 100)          0           ['dense_1[0][0]']                \n",
            "                                                                                                  \n",
            " dropout_3 (Dropout)            (None, 100)          0           ['dense_3[0][0]']                \n",
            "                                                                                                  \n",
            " concatenate (Concatenate)      (None, 200)          0           ['dropout_1[0][0]',              \n",
            "                                                                  'dropout_3[0][0]']              \n",
            "                                                                                                  \n",
            " dense_4 (Dense)                (None, 10)           2010        ['concatenate[0][0]']            \n",
            "                                                                                                  \n",
            "==================================================================================================\n",
            "Total params: 533,210\n",
            "Trainable params: 533,210\n",
            "Non-trainable params: 0\n",
            "__________________________________________________________________________________________________\n"
          ]
        }
      ]
    },
    {
      "cell_type": "code",
      "source": [
        "model_LR_FH2.compile(loss=\"sparse_categorical_crossentropy\",optimizer=\"sgd\",metrics=[\"accuracy\"])"
      ],
      "metadata": {
        "id": "ywR4VzYbyzUr"
      },
      "execution_count": null,
      "outputs": []
    },
    {
      "cell_type": "code",
      "source": [
        "#history_LR_FH2 = model_LR_FH2.fit((Xtrain_L_new,Xtrain_R_new), y_train_new, epochs=20, validation_data=((Xtest_L_new,Xtest_R_new),y_test_new))"
      ],
      "metadata": {
        "id": "Pq0Ej55LhGAE"
      },
      "execution_count": null,
      "outputs": []
    },
    {
      "cell_type": "code",
      "source": [
        "# Training set  (Xtrain_Left,Xtrain_Right), ytrain_final\n",
        "sizeTr = ytrain_final.shape[0]\n",
        "newsizeTr = int(sizeTr/1)\n",
        "XTr_L  = Xtrain_Left [:newsizeTr]\n",
        "XTr_R  = Xtrain_Right[:newsizeTr]\n",
        "yTr    = ytrain_final[:newsizeTr]\n",
        "# Test set      (Xtest_Left, Xtest_Right), ytest_final\n",
        "sizeTe = ytest_final.shape[0]\n",
        "newsizeTe = int(sizeTe/1)\n",
        "XTe_L  = Xtest_Left [:newsizeTe]\n",
        "XTe_R  = Xtest_Right[:newsizeTe]\n",
        "yTe    = ytest_final[:newsizeTe]\n",
        "history_LR_FH2 = model_LR_FH2.fit((XTr_L,XTr_R),yTr, epochs=50, validation_data=((XTe_L,XTe_R),yTe))"
      ],
      "metadata": {
        "colab": {
          "base_uri": "https://localhost:8080/"
        },
        "id": "gcurbYkZzTmG",
        "outputId": "414948b4-8881-495a-cae3-ce3615c8065e"
      },
      "execution_count": null,
      "outputs": [
        {
          "output_type": "stream",
          "name": "stdout",
          "text": [
            "Epoch 1/50\n",
            "7500/7500 [==============================] - 57s 7ms/step - loss: 1.0302 - accuracy: 0.6983 - val_loss: 0.4783 - val_accuracy: 0.8811\n",
            "Epoch 2/50\n",
            "7500/7500 [==============================] - 56s 7ms/step - loss: 0.5965 - accuracy: 0.8422 - val_loss: 0.3614 - val_accuracy: 0.9103\n",
            "Epoch 3/50\n",
            "7500/7500 [==============================] - 54s 7ms/step - loss: 0.4878 - accuracy: 0.8756 - val_loss: 0.3011 - val_accuracy: 0.9243\n",
            "Epoch 4/50\n",
            "7500/7500 [==============================] - 53s 7ms/step - loss: 0.4243 - accuracy: 0.8943 - val_loss: 0.2624 - val_accuracy: 0.9365\n",
            "Epoch 5/50\n",
            "7500/7500 [==============================] - 55s 7ms/step - loss: 0.3780 - accuracy: 0.9068 - val_loss: 0.2392 - val_accuracy: 0.9419\n",
            "Epoch 6/50\n",
            "7500/7500 [==============================] - 55s 7ms/step - loss: 0.3482 - accuracy: 0.9148 - val_loss: 0.2151 - val_accuracy: 0.9482\n",
            "Epoch 7/50\n",
            "7500/7500 [==============================] - 56s 8ms/step - loss: 0.3161 - accuracy: 0.9241 - val_loss: 0.1976 - val_accuracy: 0.9523\n",
            "Epoch 8/50\n",
            "7500/7500 [==============================] - 53s 7ms/step - loss: 0.2971 - accuracy: 0.9289 - val_loss: 0.1843 - val_accuracy: 0.9567\n",
            "Epoch 9/50\n",
            "7500/7500 [==============================] - 54s 7ms/step - loss: 0.2771 - accuracy: 0.9346 - val_loss: 0.1749 - val_accuracy: 0.9590\n",
            "Epoch 10/50\n",
            "7500/7500 [==============================] - 57s 8ms/step - loss: 0.2584 - accuracy: 0.9389 - val_loss: 0.1678 - val_accuracy: 0.9604\n",
            "Epoch 11/50\n",
            "7500/7500 [==============================] - 53s 7ms/step - loss: 0.2469 - accuracy: 0.9419 - val_loss: 0.1594 - val_accuracy: 0.9622\n",
            "Epoch 12/50\n",
            "7500/7500 [==============================] - 56s 7ms/step - loss: 0.2350 - accuracy: 0.9447 - val_loss: 0.1542 - val_accuracy: 0.9646\n",
            "Epoch 13/50\n",
            "7500/7500 [==============================] - 55s 7ms/step - loss: 0.2267 - accuracy: 0.9475 - val_loss: 0.1497 - val_accuracy: 0.9661\n",
            "Epoch 14/50\n",
            "7500/7500 [==============================] - 56s 7ms/step - loss: 0.2160 - accuracy: 0.9493 - val_loss: 0.1428 - val_accuracy: 0.9671\n",
            "Epoch 15/50\n",
            "7500/7500 [==============================] - 55s 7ms/step - loss: 0.2074 - accuracy: 0.9522 - val_loss: 0.1392 - val_accuracy: 0.9685\n",
            "Epoch 16/50\n",
            "7500/7500 [==============================] - 56s 7ms/step - loss: 0.1983 - accuracy: 0.9543 - val_loss: 0.1383 - val_accuracy: 0.9685\n",
            "Epoch 17/50\n",
            "7500/7500 [==============================] - 54s 7ms/step - loss: 0.1913 - accuracy: 0.9554 - val_loss: 0.1341 - val_accuracy: 0.9703\n",
            "Epoch 18/50\n",
            "7500/7500 [==============================] - 57s 8ms/step - loss: 0.1847 - accuracy: 0.9577 - val_loss: 0.1308 - val_accuracy: 0.9703\n",
            "Epoch 19/50\n",
            "7500/7500 [==============================] - 55s 7ms/step - loss: 0.1763 - accuracy: 0.9591 - val_loss: 0.1298 - val_accuracy: 0.9707\n",
            "Epoch 20/50\n",
            "7500/7500 [==============================] - 55s 7ms/step - loss: 0.1717 - accuracy: 0.9602 - val_loss: 0.1272 - val_accuracy: 0.9722\n",
            "Epoch 21/50\n",
            "7500/7500 [==============================] - 56s 7ms/step - loss: 0.1690 - accuracy: 0.9613 - val_loss: 0.1261 - val_accuracy: 0.9720\n",
            "Epoch 22/50\n",
            "7500/7500 [==============================] - 55s 7ms/step - loss: 0.1615 - accuracy: 0.9630 - val_loss: 0.1233 - val_accuracy: 0.9723\n",
            "Epoch 23/50\n",
            "7500/7500 [==============================] - 56s 7ms/step - loss: 0.1575 - accuracy: 0.9637 - val_loss: 0.1210 - val_accuracy: 0.9727\n",
            "Epoch 24/50\n",
            "7500/7500 [==============================] - 57s 8ms/step - loss: 0.1533 - accuracy: 0.9650 - val_loss: 0.1200 - val_accuracy: 0.9732\n",
            "Epoch 25/50\n",
            "7500/7500 [==============================] - 54s 7ms/step - loss: 0.1482 - accuracy: 0.9661 - val_loss: 0.1195 - val_accuracy: 0.9736\n",
            "Epoch 26/50\n",
            "7500/7500 [==============================] - 54s 7ms/step - loss: 0.1444 - accuracy: 0.9668 - val_loss: 0.1158 - val_accuracy: 0.9747\n",
            "Epoch 27/50\n",
            "7500/7500 [==============================] - 55s 7ms/step - loss: 0.1431 - accuracy: 0.9673 - val_loss: 0.1164 - val_accuracy: 0.9747\n",
            "Epoch 28/50\n",
            "7500/7500 [==============================] - 54s 7ms/step - loss: 0.1392 - accuracy: 0.9685 - val_loss: 0.1166 - val_accuracy: 0.9748\n",
            "Epoch 29/50\n",
            "7500/7500 [==============================] - 54s 7ms/step - loss: 0.1329 - accuracy: 0.9693 - val_loss: 0.1148 - val_accuracy: 0.9748\n",
            "Epoch 30/50\n",
            "7500/7500 [==============================] - 56s 7ms/step - loss: 0.1307 - accuracy: 0.9700 - val_loss: 0.1133 - val_accuracy: 0.9754\n",
            "Epoch 31/50\n",
            "7500/7500 [==============================] - 57s 8ms/step - loss: 0.1287 - accuracy: 0.9706 - val_loss: 0.1133 - val_accuracy: 0.9754\n",
            "Epoch 32/50\n",
            "7500/7500 [==============================] - 56s 7ms/step - loss: 0.1242 - accuracy: 0.9717 - val_loss: 0.1136 - val_accuracy: 0.9755\n",
            "Epoch 33/50\n",
            "7500/7500 [==============================] - 54s 7ms/step - loss: 0.1212 - accuracy: 0.9724 - val_loss: 0.1117 - val_accuracy: 0.9762\n",
            "Epoch 34/50\n",
            "7500/7500 [==============================] - 54s 7ms/step - loss: 0.1207 - accuracy: 0.9725 - val_loss: 0.1117 - val_accuracy: 0.9763\n",
            "Epoch 35/50\n",
            "7500/7500 [==============================] - 57s 8ms/step - loss: 0.1182 - accuracy: 0.9734 - val_loss: 0.1114 - val_accuracy: 0.9762\n",
            "Epoch 36/50\n",
            "7500/7500 [==============================] - 55s 7ms/step - loss: 0.1159 - accuracy: 0.9735 - val_loss: 0.1136 - val_accuracy: 0.9765\n",
            "Epoch 37/50\n",
            "7500/7500 [==============================] - 55s 7ms/step - loss: 0.1133 - accuracy: 0.9738 - val_loss: 0.1105 - val_accuracy: 0.9776\n",
            "Epoch 38/50\n",
            "7500/7500 [==============================] - 57s 8ms/step - loss: 0.1105 - accuracy: 0.9746 - val_loss: 0.1106 - val_accuracy: 0.9772\n",
            "Epoch 39/50\n",
            "7500/7500 [==============================] - 56s 7ms/step - loss: 0.1070 - accuracy: 0.9755 - val_loss: 0.1090 - val_accuracy: 0.9772\n",
            "Epoch 40/50\n",
            "7500/7500 [==============================] - 57s 8ms/step - loss: 0.1070 - accuracy: 0.9756 - val_loss: 0.1096 - val_accuracy: 0.9774\n",
            "Epoch 41/50\n",
            "7500/7500 [==============================] - 55s 7ms/step - loss: 0.1057 - accuracy: 0.9757 - val_loss: 0.1105 - val_accuracy: 0.9773\n",
            "Epoch 42/50\n",
            "7500/7500 [==============================] - 56s 7ms/step - loss: 0.1031 - accuracy: 0.9764 - val_loss: 0.1085 - val_accuracy: 0.9782\n",
            "Epoch 43/50\n",
            "7500/7500 [==============================] - 53s 7ms/step - loss: 0.1023 - accuracy: 0.9764 - val_loss: 0.1084 - val_accuracy: 0.9780\n",
            "Epoch 44/50\n",
            "7500/7500 [==============================] - 56s 8ms/step - loss: 0.0993 - accuracy: 0.9769 - val_loss: 0.1087 - val_accuracy: 0.9781\n",
            "Epoch 45/50\n",
            "7500/7500 [==============================] - 57s 8ms/step - loss: 0.0994 - accuracy: 0.9772 - val_loss: 0.1102 - val_accuracy: 0.9780\n",
            "Epoch 46/50\n",
            "7500/7500 [==============================] - 55s 7ms/step - loss: 0.0957 - accuracy: 0.9784 - val_loss: 0.1110 - val_accuracy: 0.9780\n",
            "Epoch 47/50\n",
            "7500/7500 [==============================] - 56s 7ms/step - loss: 0.0952 - accuracy: 0.9783 - val_loss: 0.1106 - val_accuracy: 0.9780\n",
            "Epoch 48/50\n",
            "7500/7500 [==============================] - 57s 8ms/step - loss: 0.0911 - accuracy: 0.9791 - val_loss: 0.1097 - val_accuracy: 0.9789\n",
            "Epoch 49/50\n",
            "7500/7500 [==============================] - 56s 8ms/step - loss: 0.0896 - accuracy: 0.9792 - val_loss: 0.1090 - val_accuracy: 0.9781\n",
            "Epoch 50/50\n",
            "7500/7500 [==============================] - 57s 8ms/step - loss: 0.0898 - accuracy: 0.9794 - val_loss: 0.1121 - val_accuracy: 0.9783\n"
          ]
        }
      ]
    },
    {
      "cell_type": "markdown",
      "source": [
        "## NETWORK WITH TWO VISUAL FIELDS:\n",
        " FUSION (CONCATENATION) AFTER THE FIRST HIDDEN LAYER"
      ],
      "metadata": {
        "id": "EMy0Rf5eaOK9"
      }
    },
    {
      "cell_type": "code",
      "source": [
        "input_L    = keras.layers.Input(shape=[28,28], name=\"left_input\")\n",
        "flatten_L  = keras.layers.Flatten()(input_L)\n",
        "hidden1_L  = keras.layers.Dense(300,activation=\"relu\")(flatten_L)\n",
        "drop1_L    = keras.layers.Dropout(rate=0.4)(hidden1_L)\n",
        "\n",
        "input_R    = keras.layers.Input(shape=[28,28], name=\"right_input\")\n",
        "flatten_R  = keras.layers.Flatten()(input_R)\n",
        "hidden1_R  = keras.layers.Dense(300,activation=\"relu\")(flatten_R)\n",
        "drop1_R    = keras.layers.Dropout(rate=0.4)(hidden1_R)\n",
        "\n",
        "concat_LR     = keras.layers.concatenate([drop1_L,drop1_R])\n",
        "hidden2_LR  = keras.layers.Dense(100,activation=\"relu\")(concat_LR)\n",
        "drop2_LR    = keras.layers.Dropout(rate=0.4)(hidden2_LR)\n",
        "output_LR     = keras.layers.Dense(10,activation=\"softmax\")(drop2_LR)\n",
        "\n",
        "model_LR_FH1    = keras.Model(inputs=[input_L,input_R],outputs=[output_LR] )"
      ],
      "metadata": {
        "id": "G9o9TCr10x3q"
      },
      "execution_count": null,
      "outputs": []
    },
    {
      "cell_type": "code",
      "source": [
        "model_LR_FH1.summary()"
      ],
      "metadata": {
        "colab": {
          "base_uri": "https://localhost:8080/"
        },
        "id": "TOgKqETf64TT",
        "outputId": "0105a8db-8b30-49e5-f45d-dbbd91362a19"
      },
      "execution_count": null,
      "outputs": [
        {
          "output_type": "stream",
          "name": "stdout",
          "text": [
            "Model: \"model_1\"\n",
            "__________________________________________________________________________________________________\n",
            " Layer (type)                   Output Shape         Param #     Connected to                     \n",
            "==================================================================================================\n",
            " left_input (InputLayer)        [(None, 28, 28)]     0           []                               \n",
            "                                                                                                  \n",
            " right_input (InputLayer)       [(None, 28, 28)]     0           []                               \n",
            "                                                                                                  \n",
            " flatten_2 (Flatten)            (None, 784)          0           ['left_input[0][0]']             \n",
            "                                                                                                  \n",
            " flatten_3 (Flatten)            (None, 784)          0           ['right_input[0][0]']            \n",
            "                                                                                                  \n",
            " dense_5 (Dense)                (None, 300)          235500      ['flatten_2[0][0]']              \n",
            "                                                                                                  \n",
            " dense_6 (Dense)                (None, 300)          235500      ['flatten_3[0][0]']              \n",
            "                                                                                                  \n",
            " dropout_4 (Dropout)            (None, 300)          0           ['dense_5[0][0]']                \n",
            "                                                                                                  \n",
            " dropout_5 (Dropout)            (None, 300)          0           ['dense_6[0][0]']                \n",
            "                                                                                                  \n",
            " concatenate_1 (Concatenate)    (None, 600)          0           ['dropout_4[0][0]',              \n",
            "                                                                  'dropout_5[0][0]']              \n",
            "                                                                                                  \n",
            " dense_7 (Dense)                (None, 100)          60100       ['concatenate_1[0][0]']          \n",
            "                                                                                                  \n",
            " dropout_6 (Dropout)            (None, 100)          0           ['dense_7[0][0]']                \n",
            "                                                                                                  \n",
            " dense_8 (Dense)                (None, 10)           1010        ['dropout_6[0][0]']              \n",
            "                                                                                                  \n",
            "==================================================================================================\n",
            "Total params: 532,110\n",
            "Trainable params: 532,110\n",
            "Non-trainable params: 0\n",
            "__________________________________________________________________________________________________\n"
          ]
        }
      ]
    },
    {
      "cell_type": "code",
      "source": [
        "model_LR_FH1.compile(loss=\"sparse_categorical_crossentropy\",optimizer=\"sgd\",metrics=[\"accuracy\"])"
      ],
      "metadata": {
        "id": "r5jEQdok7HLF"
      },
      "execution_count": null,
      "outputs": []
    },
    {
      "cell_type": "code",
      "source": [
        "# Training set  (Xtrain_Left,Xtrain_Right), ytrain_final\n",
        "sizeTr = ytrain_final.shape[0]\n",
        "newsizeTr = int(sizeTr/1)\n",
        "XTr_L  = Xtrain_Left [:newsizeTr]\n",
        "XTr_R  = Xtrain_Right[:newsizeTr]\n",
        "yTr    = ytrain_final[:newsizeTr]\n",
        "# Test set      (Xtest_Left, Xtest_Right), ytest_final\n",
        "sizeTe = ytest_final.shape[0]\n",
        "newsizeTe = int(sizeTe/1)\n",
        "XTe_L  = Xtest_Left [:newsizeTe]\n",
        "XTe_R  = Xtest_Right[:newsizeTe]\n",
        "yTe    = ytest_final[:newsizeTe]\n",
        "history_LR_FH1 = model_LR_FH1.fit((XTr_L,XTr_R),yTr, epochs=50, validation_data=((XTe_L,XTe_R),yTe))"
      ],
      "metadata": {
        "colab": {
          "base_uri": "https://localhost:8080/"
        },
        "id": "idGwv2Q1p1Af",
        "outputId": "b400be91-ba70-412b-d6a1-81bf5b3163c5"
      },
      "execution_count": null,
      "outputs": [
        {
          "output_type": "stream",
          "name": "stdout",
          "text": [
            "Epoch 1/50\n",
            "7500/7500 [==============================] - 59s 8ms/step - loss: 0.9312 - accuracy: 0.7235 - val_loss: 0.4154 - val_accuracy: 0.8851\n",
            "Epoch 2/50\n",
            "7500/7500 [==============================] - 53s 7ms/step - loss: 0.4924 - accuracy: 0.8576 - val_loss: 0.2902 - val_accuracy: 0.9160\n",
            "Epoch 3/50\n",
            "7500/7500 [==============================] - 56s 7ms/step - loss: 0.3805 - accuracy: 0.8886 - val_loss: 0.2303 - val_accuracy: 0.9304\n",
            "Epoch 4/50\n",
            "7500/7500 [==============================] - 57s 8ms/step - loss: 0.3199 - accuracy: 0.9068 - val_loss: 0.1959 - val_accuracy: 0.9403\n",
            "Epoch 5/50\n",
            "7500/7500 [==============================] - 54s 7ms/step - loss: 0.2795 - accuracy: 0.9187 - val_loss: 0.1727 - val_accuracy: 0.9473\n",
            "Epoch 6/50\n",
            "7500/7500 [==============================] - 53s 7ms/step - loss: 0.2508 - accuracy: 0.9269 - val_loss: 0.1548 - val_accuracy: 0.9529\n",
            "Epoch 7/50\n",
            "7500/7500 [==============================] - 54s 7ms/step - loss: 0.2256 - accuracy: 0.9345 - val_loss: 0.1417 - val_accuracy: 0.9567\n",
            "Epoch 8/50\n",
            "7500/7500 [==============================] - 56s 8ms/step - loss: 0.2094 - accuracy: 0.9390 - val_loss: 0.1327 - val_accuracy: 0.9594\n",
            "Epoch 9/50\n",
            "7500/7500 [==============================] - 53s 7ms/step - loss: 0.1939 - accuracy: 0.9430 - val_loss: 0.1253 - val_accuracy: 0.9610\n",
            "Epoch 10/50\n",
            "7500/7500 [==============================] - 55s 7ms/step - loss: 0.1825 - accuracy: 0.9469 - val_loss: 0.1179 - val_accuracy: 0.9640\n",
            "Epoch 11/50\n",
            "7500/7500 [==============================] - 56s 7ms/step - loss: 0.1709 - accuracy: 0.9499 - val_loss: 0.1117 - val_accuracy: 0.9663\n",
            "Epoch 12/50\n",
            "7500/7500 [==============================] - 56s 7ms/step - loss: 0.1604 - accuracy: 0.9526 - val_loss: 0.1063 - val_accuracy: 0.9673\n",
            "Epoch 13/50\n",
            "7500/7500 [==============================] - 55s 7ms/step - loss: 0.1527 - accuracy: 0.9553 - val_loss: 0.1034 - val_accuracy: 0.9684\n",
            "Epoch 14/50\n",
            "7500/7500 [==============================] - 56s 7ms/step - loss: 0.1453 - accuracy: 0.9578 - val_loss: 0.0991 - val_accuracy: 0.9704\n",
            "Epoch 15/50\n",
            "7500/7500 [==============================] - 56s 7ms/step - loss: 0.1373 - accuracy: 0.9597 - val_loss: 0.0961 - val_accuracy: 0.9708\n",
            "Epoch 16/50\n",
            "7500/7500 [==============================] - 55s 7ms/step - loss: 0.1329 - accuracy: 0.9609 - val_loss: 0.0935 - val_accuracy: 0.9716\n",
            "Epoch 17/50\n",
            "7500/7500 [==============================] - 58s 8ms/step - loss: 0.1276 - accuracy: 0.9621 - val_loss: 0.0915 - val_accuracy: 0.9728\n",
            "Epoch 18/50\n",
            "7500/7500 [==============================] - 54s 7ms/step - loss: 0.1223 - accuracy: 0.9643 - val_loss: 0.0899 - val_accuracy: 0.9734\n",
            "Epoch 19/50\n",
            "7500/7500 [==============================] - 55s 7ms/step - loss: 0.1174 - accuracy: 0.9648 - val_loss: 0.0883 - val_accuracy: 0.9729\n",
            "Epoch 20/50\n",
            "7500/7500 [==============================] - 54s 7ms/step - loss: 0.1137 - accuracy: 0.9664 - val_loss: 0.0856 - val_accuracy: 0.9744\n",
            "Epoch 21/50\n",
            "7500/7500 [==============================] - 57s 8ms/step - loss: 0.1089 - accuracy: 0.9673 - val_loss: 0.0849 - val_accuracy: 0.9747\n",
            "Epoch 22/50\n",
            "7500/7500 [==============================] - 55s 7ms/step - loss: 0.1048 - accuracy: 0.9692 - val_loss: 0.0844 - val_accuracy: 0.9751\n",
            "Epoch 23/50\n",
            "7500/7500 [==============================] - 53s 7ms/step - loss: 0.1029 - accuracy: 0.9696 - val_loss: 0.0815 - val_accuracy: 0.9756\n",
            "Epoch 24/50\n",
            "7500/7500 [==============================] - 55s 7ms/step - loss: 0.0990 - accuracy: 0.9706 - val_loss: 0.0804 - val_accuracy: 0.9761\n",
            "Epoch 25/50\n",
            "7500/7500 [==============================] - 54s 7ms/step - loss: 0.0970 - accuracy: 0.9716 - val_loss: 0.0792 - val_accuracy: 0.9758\n",
            "Epoch 26/50\n",
            "7500/7500 [==============================] - 54s 7ms/step - loss: 0.0934 - accuracy: 0.9723 - val_loss: 0.0787 - val_accuracy: 0.9762\n",
            "Epoch 27/50\n",
            "7500/7500 [==============================] - 57s 8ms/step - loss: 0.0910 - accuracy: 0.9727 - val_loss: 0.0781 - val_accuracy: 0.9764\n",
            "Epoch 28/50\n",
            "7500/7500 [==============================] - 56s 7ms/step - loss: 0.0900 - accuracy: 0.9734 - val_loss: 0.0773 - val_accuracy: 0.9772\n",
            "Epoch 29/50\n",
            "7500/7500 [==============================] - 55s 7ms/step - loss: 0.0870 - accuracy: 0.9743 - val_loss: 0.0758 - val_accuracy: 0.9774\n",
            "Epoch 30/50\n",
            "7500/7500 [==============================] - 55s 7ms/step - loss: 0.0845 - accuracy: 0.9744 - val_loss: 0.0747 - val_accuracy: 0.9774\n",
            "Epoch 31/50\n",
            "7500/7500 [==============================] - 55s 7ms/step - loss: 0.0815 - accuracy: 0.9756 - val_loss: 0.0763 - val_accuracy: 0.9776\n",
            "Epoch 32/50\n",
            "7500/7500 [==============================] - 53s 7ms/step - loss: 0.0795 - accuracy: 0.9765 - val_loss: 0.0752 - val_accuracy: 0.9777\n",
            "Epoch 33/50\n",
            "7500/7500 [==============================] - 56s 7ms/step - loss: 0.0782 - accuracy: 0.9764 - val_loss: 0.0746 - val_accuracy: 0.9776\n",
            "Epoch 34/50\n",
            "7500/7500 [==============================] - 55s 7ms/step - loss: 0.0772 - accuracy: 0.9766 - val_loss: 0.0733 - val_accuracy: 0.9780\n",
            "Epoch 35/50\n",
            "7500/7500 [==============================] - 56s 7ms/step - loss: 0.0736 - accuracy: 0.9780 - val_loss: 0.0737 - val_accuracy: 0.9776\n",
            "Epoch 36/50\n",
            "7500/7500 [==============================] - 55s 7ms/step - loss: 0.0728 - accuracy: 0.9782 - val_loss: 0.0738 - val_accuracy: 0.9778\n",
            "Epoch 37/50\n",
            "7500/7500 [==============================] - 55s 7ms/step - loss: 0.0714 - accuracy: 0.9783 - val_loss: 0.0727 - val_accuracy: 0.9786\n",
            "Epoch 38/50\n",
            "7500/7500 [==============================] - 56s 7ms/step - loss: 0.0698 - accuracy: 0.9791 - val_loss: 0.0714 - val_accuracy: 0.9788\n",
            "Epoch 39/50\n",
            "7500/7500 [==============================] - 59s 8ms/step - loss: 0.0680 - accuracy: 0.9794 - val_loss: 0.0713 - val_accuracy: 0.9786\n",
            "Epoch 40/50\n",
            "7500/7500 [==============================] - 55s 7ms/step - loss: 0.0668 - accuracy: 0.9799 - val_loss: 0.0708 - val_accuracy: 0.9791\n",
            "Epoch 41/50\n",
            "7500/7500 [==============================] - 56s 7ms/step - loss: 0.0655 - accuracy: 0.9803 - val_loss: 0.0725 - val_accuracy: 0.9791\n",
            "Epoch 42/50\n",
            "7500/7500 [==============================] - 56s 7ms/step - loss: 0.0638 - accuracy: 0.9809 - val_loss: 0.0707 - val_accuracy: 0.9791\n",
            "Epoch 43/50\n",
            "7500/7500 [==============================] - 55s 7ms/step - loss: 0.0634 - accuracy: 0.9809 - val_loss: 0.0709 - val_accuracy: 0.9798\n",
            "Epoch 44/50\n",
            "7500/7500 [==============================] - 56s 7ms/step - loss: 0.0623 - accuracy: 0.9812 - val_loss: 0.0696 - val_accuracy: 0.9802\n",
            "Epoch 45/50\n",
            "7500/7500 [==============================] - 56s 7ms/step - loss: 0.0617 - accuracy: 0.9813 - val_loss: 0.0704 - val_accuracy: 0.9795\n",
            "Epoch 46/50\n",
            "7500/7500 [==============================] - 55s 7ms/step - loss: 0.0596 - accuracy: 0.9819 - val_loss: 0.0697 - val_accuracy: 0.9797\n",
            "Epoch 47/50\n",
            "7500/7500 [==============================] - 55s 7ms/step - loss: 0.0587 - accuracy: 0.9822 - val_loss: 0.0691 - val_accuracy: 0.9800\n",
            "Epoch 48/50\n",
            "7500/7500 [==============================] - 53s 7ms/step - loss: 0.0571 - accuracy: 0.9827 - val_loss: 0.0687 - val_accuracy: 0.9802\n",
            "Epoch 49/50\n",
            "7500/7500 [==============================] - 55s 7ms/step - loss: 0.0572 - accuracy: 0.9826 - val_loss: 0.0686 - val_accuracy: 0.9803\n",
            "Epoch 50/50\n",
            "7500/7500 [==============================] - 56s 7ms/step - loss: 0.0555 - accuracy: 0.9831 - val_loss: 0.0690 - val_accuracy: 0.9806\n"
          ]
        }
      ]
    },
    {
      "cell_type": "code",
      "source": [
        "y_pred = model_LR2.predict((X_test,X_test))"
      ],
      "metadata": {
        "colab": {
          "base_uri": "https://localhost:8080/"
        },
        "id": "DeyhMarG8xPQ",
        "outputId": "5ddfd573-6aad-4fd4-f94b-dfa9d5287b03"
      },
      "execution_count": null,
      "outputs": [
        {
          "output_type": "stream",
          "name": "stdout",
          "text": [
            "313/313 [==============================] - 1s 3ms/step\n"
          ]
        }
      ]
    },
    {
      "cell_type": "code",
      "source": [
        "y_pred[0]"
      ],
      "metadata": {
        "colab": {
          "base_uri": "https://localhost:8080/"
        },
        "id": "GWC87knQ92Ix",
        "outputId": "605f4fa2-9bf5-4e77-b5f0-44f703a9040b"
      },
      "execution_count": null,
      "outputs": [
        {
          "output_type": "execute_result",
          "data": {
            "text/plain": [
              "array([1.63125708e-06, 4.37570270e-06, 8.71729571e-05, 6.69731526e-05,\n",
              "       1.17078535e-07, 1.55766926e-07, 6.07941031e-09, 9.99820471e-01,\n",
              "       3.64318794e-07, 1.86662364e-05], dtype=float32)"
            ]
          },
          "metadata": {},
          "execution_count": 22
        }
      ]
    },
    {
      "cell_type": "code",
      "source": [
        "def PlotTest(n,m,model,w1,w2,testdata):\n",
        "  XX1 = testdata[n:n+1]\n",
        "  XX2 = testdata[m:m+1]\n",
        "  y_predXX = model.predict((w1*XX1,w2*XX2))\n",
        "  fig, (ax1, ax2) = plt.subplots(1, 2)\n",
        "  ax1.imshow(w1*XX1[0],cmap=\"binary\",vmax=1)\n",
        "  ax2.imshow(w2*XX2[0],cmap=\"binary\",vmax=1)\n",
        "#plt.axis(\"off\")\n",
        "  fig = plt.figure(figsize = (6, 3))\n",
        "# creating the bar plot\n",
        "  seq = np.array([i for i in range(10)])\n",
        "  plt.bar(seq,y_predXX[0], color ='maroon',width=1)\n",
        "  plt.xlabel(\"Character\")\n",
        "  plt.ylabel(\"Probability\")\n",
        "  plt.title(\"Network output\")\n",
        "  plt.show()"
      ],
      "metadata": {
        "id": "oSfvz7CGZ1Jj"
      },
      "execution_count": null,
      "outputs": []
    },
    {
      "cell_type": "code",
      "source": [
        "PlotTest(33,3198,model_LR_FH1,0.7,1,X_test)"
      ],
      "metadata": {
        "colab": {
          "base_uri": "https://localhost:8080/",
          "height": 620
        },
        "id": "RsxgbInubKjy",
        "outputId": "e85822d6-a219-4c26-b4e3-cbbbb088aeaf"
      },
      "execution_count": null,
      "outputs": [
        {
          "output_type": "stream",
          "name": "stdout",
          "text": [
            "1/1 [==============================] - 0s 30ms/step\n"
          ]
        },
        {
          "output_type": "display_data",
          "data": {
            "text/plain": [
              "<Figure size 640x480 with 2 Axes>"
            ],
            "image/png": "[encoded data removed]"
          },
          "metadata": {}
        },
        {
          "output_type": "display_data",
          "data": {
            "text/plain": [
              "<Figure size 600x300 with 1 Axes>"
            ],
            "image/png": "[encoded data removed]"
          },
          "metadata": {}
        }
      ]
    },
    {
      "cell_type": "code",
      "source": [
        "XX1 = X_test[30:31]\n",
        "XX2 = X_test[45:46]\n",
        "A\n",
        "y_predXX = model_LR_FH2.predict((0.7*XX1,0*XX2))\n",
        "\n",
        "fig, (ax1, ax2) = plt.subplots(1, 2)\n",
        "ax1.imshow(0.5*XX1[0],cmap=\"binary\",vmax=1)\n",
        "ax2.imshow(XX2[0],cmap=\"binary\",vmax=1)\n",
        "#plt.axis(\"off\")\n",
        "fig = plt.figure(figsize = (8, 4))\n",
        "\n",
        "# creating the bar plot\n",
        "seq = np.array([i for i in range(10)])\n",
        "plt.bar(seq,y_predXX[0], color ='maroon',width=1)\n",
        "\n",
        "plt.xlabel(\"Character\")\n",
        "plt.ylabel(\"Probability\")\n",
        "plt.title(\"Network output\")\n",
        "plt.show()"
      ],
      "metadata": {
        "colab": {
          "base_uri": "https://localhost:8080/",
          "height": 697
        },
        "id": "xwzmI_rBGb4m",
        "outputId": "2ee33c22-ad76-4b38-f0db-5e531731f0e3"
      },
      "execution_count": null,
      "outputs": [
        {
          "output_type": "stream",
          "name": "stdout",
          "text": [
            "1/1 [==============================] - 0s 25ms/step\n"
          ]
        },
        {
          "output_type": "display_data",
          "data": {
            "text/plain": [
              "<Figure size 640x480 with 2 Axes>"
            ],
            "image/png": "[encoded data removed]"
          },
          "metadata": {}
        },
        {
          "output_type": "display_data",
          "data": {
            "text/plain": [
              "<Figure size 800x400 with 1 Axes>"
            ],
            "image/png": "[encoded data removed]"
          },
          "metadata": {}
        }
      ]
    },
    {
      "cell_type": "code",
      "source": [],
      "metadata": {
        "id": "aq2nZcqfLAOr"
      },
      "execution_count": null,
      "outputs": []
    },
    {
      "cell_type": "code",
      "source": [
        "y_predXX = model_LR_FH2.predict((0.7*XX1,0*XX2))\n",
        "fig = plt.figure(figsize = (10, 5))\n",
        "\n",
        "# creating the bar plot\n",
        "seq = np.array([i for i in range(10)])\n",
        "plt.bar(seq,y_predXX[0], color ='maroon')\n",
        "\n",
        "plt.xlabel(\"Character\")\n",
        "plt.ylabel(\"Probability\")\n",
        "plt.title(\"Network output\")\n",
        "plt.show()"
      ],
      "metadata": {
        "colab": {
          "base_uri": "https://localhost:8080/",
          "height": 504
        },
        "id": "cSz8TojiF2pB",
        "outputId": "5450deab-671c-4dcf-a74d-dd67266faa49"
      },
      "execution_count": null,
      "outputs": [
        {
          "output_type": "stream",
          "name": "stdout",
          "text": [
            "1/1 [==============================] - 0s 31ms/step\n"
          ]
        },
        {
          "output_type": "display_data",
          "data": {
            "text/plain": [
              "<Figure size 1000x500 with 1 Axes>"
            ],
            "image/png": "[encoded data removed]"
          },
          "metadata": {}
        }
      ]
    }
  ],
  "metadata": {
    "colab": {
      "provenance": [],
      "include_colab_link": true
    },
    "kernelspec": {
      "display_name": "Python 3",
      "name": "python3"
    },
    "language_info": {
      "name": "python"
    }
  },
  "nbformat": 4,
  "nbformat_minor": 0
}